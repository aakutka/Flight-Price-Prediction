{
  "cells": [
    {
      "cell_type": "code",
      "execution_count": null,
      "metadata": {
        "id": "rG74tPpMlOTx"
      },
      "outputs": [],
      "source": [
        "# We need to perfrom the dataset cleaning to get the required result\n",
        "import os\n",
        "\n",
        "import numpy as np\n",
        "\n",
        "import pandas as pd\n",
        "\n",
        "from sklearn.model_selection import train_test_split\n",
        "\n"
      ]
    },
    {
      "cell_type": "code",
      "execution_count": null,
      "metadata": {
        "id": "xNjPJXeLlOT0"
      },
      "outputs": [],
      "source": [
        "data=\"C:/Users/singh/OneDrive/Desktop/Machine Leanring/Project/Dataset/flight_price.csv\"\n",
        "\n",
        "df=pd.read_csv(data)"
      ]
    },
    {
      "cell_type": "code",
      "execution_count": null,
      "metadata": {
        "id": "QGx7DHoAlOT1",
        "outputId": "4993adfa-c2bb-427d-dfd8-d2478750ea8d"
      },
      "outputs": [
        {
          "data": {
            "text/html": [
              "<div>\n",
              "<style scoped>\n",
              "    .dataframe tbody tr th:only-of-type {\n",
              "        vertical-align: middle;\n",
              "    }\n",
              "\n",
              "    .dataframe tbody tr th {\n",
              "        vertical-align: top;\n",
              "    }\n",
              "\n",
              "    .dataframe thead th {\n",
              "        text-align: right;\n",
              "    }\n",
              "</style>\n",
              "<table border=\"1\" class=\"dataframe\">\n",
              "  <thead>\n",
              "    <tr style=\"text-align: right;\">\n",
              "      <th></th>\n",
              "      <th>Airline</th>\n",
              "      <th>Date_of_Journey</th>\n",
              "      <th>Source</th>\n",
              "      <th>Destination</th>\n",
              "      <th>Route</th>\n",
              "      <th>Dep_Time</th>\n",
              "      <th>Arrival_Time</th>\n",
              "      <th>Duration</th>\n",
              "      <th>Total_Stops</th>\n",
              "      <th>Additional_Info</th>\n",
              "      <th>Price</th>\n",
              "    </tr>\n",
              "  </thead>\n",
              "  <tbody>\n",
              "    <tr>\n",
              "      <th>0</th>\n",
              "      <td>IndiGo</td>\n",
              "      <td>24/03/2019</td>\n",
              "      <td>Banglore</td>\n",
              "      <td>New Delhi</td>\n",
              "      <td>BLR → DEL</td>\n",
              "      <td>22:20</td>\n",
              "      <td>01:10 22 Mar</td>\n",
              "      <td>2h 50m</td>\n",
              "      <td>non-stop</td>\n",
              "      <td>No info</td>\n",
              "      <td>3897</td>\n",
              "    </tr>\n",
              "    <tr>\n",
              "      <th>1</th>\n",
              "      <td>Air India</td>\n",
              "      <td>1/05/2019</td>\n",
              "      <td>Kolkata</td>\n",
              "      <td>Banglore</td>\n",
              "      <td>CCU → IXR → BBI → BLR</td>\n",
              "      <td>05:50</td>\n",
              "      <td>13:15</td>\n",
              "      <td>7h 25m</td>\n",
              "      <td>2 stops</td>\n",
              "      <td>No info</td>\n",
              "      <td>7662</td>\n",
              "    </tr>\n",
              "    <tr>\n",
              "      <th>2</th>\n",
              "      <td>Jet Airways</td>\n",
              "      <td>9/06/2019</td>\n",
              "      <td>Delhi</td>\n",
              "      <td>Cochin</td>\n",
              "      <td>DEL → LKO → BOM → COK</td>\n",
              "      <td>09:25</td>\n",
              "      <td>04:25 10 Jun</td>\n",
              "      <td>19h</td>\n",
              "      <td>2 stops</td>\n",
              "      <td>No info</td>\n",
              "      <td>13882</td>\n",
              "    </tr>\n",
              "    <tr>\n",
              "      <th>3</th>\n",
              "      <td>IndiGo</td>\n",
              "      <td>12/05/2019</td>\n",
              "      <td>Kolkata</td>\n",
              "      <td>Banglore</td>\n",
              "      <td>CCU → NAG → BLR</td>\n",
              "      <td>18:05</td>\n",
              "      <td>23:30</td>\n",
              "      <td>5h 25m</td>\n",
              "      <td>1 stop</td>\n",
              "      <td>No info</td>\n",
              "      <td>6218</td>\n",
              "    </tr>\n",
              "    <tr>\n",
              "      <th>4</th>\n",
              "      <td>IndiGo</td>\n",
              "      <td>01/03/2019</td>\n",
              "      <td>Banglore</td>\n",
              "      <td>New Delhi</td>\n",
              "      <td>BLR → NAG → DEL</td>\n",
              "      <td>16:50</td>\n",
              "      <td>21:35</td>\n",
              "      <td>4h 45m</td>\n",
              "      <td>1 stop</td>\n",
              "      <td>No info</td>\n",
              "      <td>13302</td>\n",
              "    </tr>\n",
              "  </tbody>\n",
              "</table>\n",
              "</div>"
            ],
            "text/plain": [
              "       Airline Date_of_Journey    Source Destination                  Route  \\\n",
              "0       IndiGo      24/03/2019  Banglore   New Delhi              BLR → DEL   \n",
              "1    Air India       1/05/2019   Kolkata    Banglore  CCU → IXR → BBI → BLR   \n",
              "2  Jet Airways       9/06/2019     Delhi      Cochin  DEL → LKO → BOM → COK   \n",
              "3       IndiGo      12/05/2019   Kolkata    Banglore        CCU → NAG → BLR   \n",
              "4       IndiGo      01/03/2019  Banglore   New Delhi        BLR → NAG → DEL   \n",
              "\n",
              "  Dep_Time  Arrival_Time Duration Total_Stops Additional_Info  Price  \n",
              "0    22:20  01:10 22 Mar   2h 50m    non-stop         No info   3897  \n",
              "1    05:50         13:15   7h 25m     2 stops         No info   7662  \n",
              "2    09:25  04:25 10 Jun      19h     2 stops         No info  13882  \n",
              "3    18:05         23:30   5h 25m      1 stop         No info   6218  \n",
              "4    16:50         21:35   4h 45m      1 stop         No info  13302  "
            ]
          },
          "execution_count": 4,
          "metadata": {},
          "output_type": "execute_result"
        }
      ],
      "source": [
        "# Getting the preprocessing of the stage to  study about the data\n",
        "\n",
        "df.head()"
      ]
    },
    {
      "cell_type": "code",
      "execution_count": null,
      "metadata": {
        "id": "_PnhlLcylOT2",
        "outputId": "0e342d71-5453-41db-9498-85e0472ad786"
      },
      "outputs": [
        {
          "name": "stdout",
          "output_type": "stream",
          "text": [
            "<class 'pandas.core.frame.DataFrame'>\n",
            "RangeIndex: 10683 entries, 0 to 10682\n",
            "Data columns (total 11 columns):\n",
            " #   Column           Non-Null Count  Dtype \n",
            "---  ------           --------------  ----- \n",
            " 0   Airline          10683 non-null  object\n",
            " 1   Date_of_Journey  10683 non-null  object\n",
            " 2   Source           10683 non-null  object\n",
            " 3   Destination      10683 non-null  object\n",
            " 4   Route            10682 non-null  object\n",
            " 5   Dep_Time         10683 non-null  object\n",
            " 6   Arrival_Time     10683 non-null  object\n",
            " 7   Duration         10683 non-null  object\n",
            " 8   Total_Stops      10682 non-null  object\n",
            " 9   Additional_Info  10683 non-null  object\n",
            " 10  Price            10683 non-null  int64 \n",
            "dtypes: int64(1), object(10)\n",
            "memory usage: 918.2+ KB\n"
          ]
        }
      ],
      "source": [
        "df.info()"
      ]
    },
    {
      "cell_type": "code",
      "execution_count": null,
      "metadata": {
        "id": "WthZp8c6lOT3",
        "outputId": "b64b6718-2a34-471a-bc34-c7db6052f48f"
      },
      "outputs": [
        {
          "data": {
            "text/plain": [
              "Airline            object\n",
              "Date_of_Journey    object\n",
              "Source             object\n",
              "Destination        object\n",
              "Route              object\n",
              "Dep_Time           object\n",
              "Arrival_Time       object\n",
              "Duration           object\n",
              "Total_Stops        object\n",
              "Additional_Info    object\n",
              "Price               int64\n",
              "dtype: object"
            ]
          },
          "execution_count": 6,
          "metadata": {},
          "output_type": "execute_result"
        }
      ],
      "source": [
        "df.dtypes"
      ]
    },
    {
      "cell_type": "code",
      "execution_count": null,
      "metadata": {
        "id": "Uo4N4c-GlOT3",
        "outputId": "4844f718-e5ac-4f43-eb23-3ab33e62c1ef"
      },
      "outputs": [
        {
          "name": "stdout",
          "output_type": "stream",
          "text": [
            "01/03/2019\n",
            "16:50\n"
          ]
        }
      ],
      "source": [
        "# here I need to work on the time part\n",
        "value=df.Date_of_Journey.iloc[4]\n",
        "val=df.Dep_Time.iloc[4]\n",
        "\n",
        "print(value)\n",
        "print(val)"
      ]
    },
    {
      "cell_type": "code",
      "execution_count": null,
      "metadata": {
        "id": "wa57XjRxlOT4",
        "outputId": "e6a173b2-13d4-4bda-d07d-d0877048cda6"
      },
      "outputs": [
        {
          "data": {
            "text/plain": [
              "220"
            ]
          },
          "execution_count": 8,
          "metadata": {},
          "output_type": "execute_result"
        }
      ],
      "source": [
        "df.duplicated().sum()\n"
      ]
    },
    {
      "cell_type": "code",
      "execution_count": null,
      "metadata": {
        "id": "gEnfNEfDlOT4",
        "outputId": "f81ce79d-8c5d-4eb2-a8da-63f406bebf83"
      },
      "outputs": [
        {
          "data": {
            "text/html": [
              "<div>\n",
              "<style scoped>\n",
              "    .dataframe tbody tr th:only-of-type {\n",
              "        vertical-align: middle;\n",
              "    }\n",
              "\n",
              "    .dataframe tbody tr th {\n",
              "        vertical-align: top;\n",
              "    }\n",
              "\n",
              "    .dataframe thead th {\n",
              "        text-align: right;\n",
              "    }\n",
              "</style>\n",
              "<table border=\"1\" class=\"dataframe\">\n",
              "  <thead>\n",
              "    <tr style=\"text-align: right;\">\n",
              "      <th></th>\n",
              "      <th>Airline</th>\n",
              "      <th>Date_of_Journey</th>\n",
              "      <th>Source</th>\n",
              "      <th>Destination</th>\n",
              "      <th>Route</th>\n",
              "      <th>Dep_Time</th>\n",
              "      <th>Arrival_Time</th>\n",
              "      <th>Duration</th>\n",
              "      <th>Total_Stops</th>\n",
              "      <th>Additional_Info</th>\n",
              "      <th>Price</th>\n",
              "    </tr>\n",
              "  </thead>\n",
              "  <tbody>\n",
              "    <tr>\n",
              "      <th>6321</th>\n",
              "      <td>Air India</td>\n",
              "      <td>01/03/2019</td>\n",
              "      <td>Banglore</td>\n",
              "      <td>New Delhi</td>\n",
              "      <td>BLR → BOM → AMD → DEL</td>\n",
              "      <td>08:50</td>\n",
              "      <td>23:55 02 Mar</td>\n",
              "      <td>39h 5m</td>\n",
              "      <td>2 stops</td>\n",
              "      <td>No info</td>\n",
              "      <td>17135</td>\n",
              "    </tr>\n",
              "    <tr>\n",
              "      <th>9848</th>\n",
              "      <td>Air India</td>\n",
              "      <td>01/03/2019</td>\n",
              "      <td>Banglore</td>\n",
              "      <td>New Delhi</td>\n",
              "      <td>BLR → BOM → AMD → DEL</td>\n",
              "      <td>08:50</td>\n",
              "      <td>23:55 02 Mar</td>\n",
              "      <td>39h 5m</td>\n",
              "      <td>2 stops</td>\n",
              "      <td>No info</td>\n",
              "      <td>17135</td>\n",
              "    </tr>\n",
              "    <tr>\n",
              "      <th>572</th>\n",
              "      <td>Air India</td>\n",
              "      <td>03/03/2019</td>\n",
              "      <td>Banglore</td>\n",
              "      <td>New Delhi</td>\n",
              "      <td>BLR → DEL</td>\n",
              "      <td>21:10</td>\n",
              "      <td>23:55</td>\n",
              "      <td>2h 45m</td>\n",
              "      <td>non-stop</td>\n",
              "      <td>No info</td>\n",
              "      <td>7591</td>\n",
              "    </tr>\n",
              "    <tr>\n",
              "      <th>8168</th>\n",
              "      <td>Air India</td>\n",
              "      <td>03/03/2019</td>\n",
              "      <td>Banglore</td>\n",
              "      <td>New Delhi</td>\n",
              "      <td>BLR → DEL</td>\n",
              "      <td>21:10</td>\n",
              "      <td>23:55</td>\n",
              "      <td>2h 45m</td>\n",
              "      <td>non-stop</td>\n",
              "      <td>No info</td>\n",
              "      <td>7591</td>\n",
              "    </tr>\n",
              "    <tr>\n",
              "      <th>1495</th>\n",
              "      <td>Air India</td>\n",
              "      <td>1/04/2019</td>\n",
              "      <td>Kolkata</td>\n",
              "      <td>Banglore</td>\n",
              "      <td>CCU → DEL → COK → BLR</td>\n",
              "      <td>10:00</td>\n",
              "      <td>01:20 02 Apr</td>\n",
              "      <td>15h 20m</td>\n",
              "      <td>2 stops</td>\n",
              "      <td>No info</td>\n",
              "      <td>10408</td>\n",
              "    </tr>\n",
              "    <tr>\n",
              "      <th>...</th>\n",
              "      <td>...</td>\n",
              "      <td>...</td>\n",
              "      <td>...</td>\n",
              "      <td>...</td>\n",
              "      <td>...</td>\n",
              "      <td>...</td>\n",
              "      <td>...</td>\n",
              "      <td>...</td>\n",
              "      <td>...</td>\n",
              "      <td>...</td>\n",
              "      <td>...</td>\n",
              "    </tr>\n",
              "    <tr>\n",
              "      <th>2692</th>\n",
              "      <td>SpiceJet</td>\n",
              "      <td>24/03/2019</td>\n",
              "      <td>Banglore</td>\n",
              "      <td>New Delhi</td>\n",
              "      <td>BLR → DEL</td>\n",
              "      <td>05:45</td>\n",
              "      <td>08:35</td>\n",
              "      <td>2h 50m</td>\n",
              "      <td>non-stop</td>\n",
              "      <td>No check-in baggage included</td>\n",
              "      <td>4273</td>\n",
              "    </tr>\n",
              "    <tr>\n",
              "      <th>2870</th>\n",
              "      <td>SpiceJet</td>\n",
              "      <td>24/03/2019</td>\n",
              "      <td>Banglore</td>\n",
              "      <td>New Delhi</td>\n",
              "      <td>BLR → DEL</td>\n",
              "      <td>05:45</td>\n",
              "      <td>08:35</td>\n",
              "      <td>2h 50m</td>\n",
              "      <td>non-stop</td>\n",
              "      <td>No check-in baggage included</td>\n",
              "      <td>4273</td>\n",
              "    </tr>\n",
              "    <tr>\n",
              "      <th>3711</th>\n",
              "      <td>SpiceJet</td>\n",
              "      <td>24/03/2019</td>\n",
              "      <td>Banglore</td>\n",
              "      <td>New Delhi</td>\n",
              "      <td>BLR → DEL</td>\n",
              "      <td>20:30</td>\n",
              "      <td>23:20</td>\n",
              "      <td>2h 50m</td>\n",
              "      <td>non-stop</td>\n",
              "      <td>No check-in baggage included</td>\n",
              "      <td>3873</td>\n",
              "    </tr>\n",
              "    <tr>\n",
              "      <th>2634</th>\n",
              "      <td>Vistara</td>\n",
              "      <td>24/03/2019</td>\n",
              "      <td>Banglore</td>\n",
              "      <td>New Delhi</td>\n",
              "      <td>BLR → DEL</td>\n",
              "      <td>11:30</td>\n",
              "      <td>14:10</td>\n",
              "      <td>2h 40m</td>\n",
              "      <td>non-stop</td>\n",
              "      <td>No info</td>\n",
              "      <td>5403</td>\n",
              "    </tr>\n",
              "    <tr>\n",
              "      <th>5470</th>\n",
              "      <td>Vistara</td>\n",
              "      <td>24/03/2019</td>\n",
              "      <td>Banglore</td>\n",
              "      <td>New Delhi</td>\n",
              "      <td>BLR → DEL</td>\n",
              "      <td>11:30</td>\n",
              "      <td>14:10</td>\n",
              "      <td>2h 40m</td>\n",
              "      <td>non-stop</td>\n",
              "      <td>No info</td>\n",
              "      <td>5403</td>\n",
              "    </tr>\n",
              "  </tbody>\n",
              "</table>\n",
              "<p>415 rows × 11 columns</p>\n",
              "</div>"
            ],
            "text/plain": [
              "        Airline Date_of_Journey    Source Destination                  Route  \\\n",
              "6321  Air India      01/03/2019  Banglore   New Delhi  BLR → BOM → AMD → DEL   \n",
              "9848  Air India      01/03/2019  Banglore   New Delhi  BLR → BOM → AMD → DEL   \n",
              "572   Air India      03/03/2019  Banglore   New Delhi              BLR → DEL   \n",
              "8168  Air India      03/03/2019  Banglore   New Delhi              BLR → DEL   \n",
              "1495  Air India       1/04/2019   Kolkata    Banglore  CCU → DEL → COK → BLR   \n",
              "...         ...             ...       ...         ...                    ...   \n",
              "2692   SpiceJet      24/03/2019  Banglore   New Delhi              BLR → DEL   \n",
              "2870   SpiceJet      24/03/2019  Banglore   New Delhi              BLR → DEL   \n",
              "3711   SpiceJet      24/03/2019  Banglore   New Delhi              BLR → DEL   \n",
              "2634    Vistara      24/03/2019  Banglore   New Delhi              BLR → DEL   \n",
              "5470    Vistara      24/03/2019  Banglore   New Delhi              BLR → DEL   \n",
              "\n",
              "     Dep_Time  Arrival_Time Duration Total_Stops  \\\n",
              "6321    08:50  23:55 02 Mar   39h 5m     2 stops   \n",
              "9848    08:50  23:55 02 Mar   39h 5m     2 stops   \n",
              "572     21:10         23:55   2h 45m    non-stop   \n",
              "8168    21:10         23:55   2h 45m    non-stop   \n",
              "1495    10:00  01:20 02 Apr  15h 20m     2 stops   \n",
              "...       ...           ...      ...         ...   \n",
              "2692    05:45         08:35   2h 50m    non-stop   \n",
              "2870    05:45         08:35   2h 50m    non-stop   \n",
              "3711    20:30         23:20   2h 50m    non-stop   \n",
              "2634    11:30         14:10   2h 40m    non-stop   \n",
              "5470    11:30         14:10   2h 40m    non-stop   \n",
              "\n",
              "                   Additional_Info  Price  \n",
              "6321                       No info  17135  \n",
              "9848                       No info  17135  \n",
              "572                        No info   7591  \n",
              "8168                       No info   7591  \n",
              "1495                       No info  10408  \n",
              "...                            ...    ...  \n",
              "2692  No check-in baggage included   4273  \n",
              "2870  No check-in baggage included   4273  \n",
              "3711  No check-in baggage included   3873  \n",
              "2634                       No info   5403  \n",
              "5470                       No info   5403  \n",
              "\n",
              "[415 rows x 11 columns]"
            ]
          },
          "execution_count": 9,
          "metadata": {},
          "output_type": "execute_result"
        }
      ],
      "source": [
        "(df.loc[df.duplicated(keep=False)].sort_values([\"Airline\", \"Date_of_Journey\", \"Source\", \"Destination\"]))"
      ]
    },
    {
      "cell_type": "code",
      "execution_count": null,
      "metadata": {
        "id": "wdRaCi1olOT5",
        "outputId": "2e7d8fec-b6cd-4db6-8ecd-e8390552a08b"
      },
      "outputs": [
        {
          "data": {
            "text/plain": [
              "0             IndiGo\n",
              "1          Air India\n",
              "2        Jet Airways\n",
              "3             IndiGo\n",
              "4             IndiGo\n",
              "            ...     \n",
              "10678       Air Asia\n",
              "10679      Air India\n",
              "10680    Jet Airways\n",
              "10681        Vistara\n",
              "10682      Air India\n",
              "Name: Airline, Length: 10683, dtype: object"
            ]
          },
          "execution_count": 10,
          "metadata": {},
          "output_type": "execute_result"
        }
      ],
      "source": [
        "df.Airline"
      ]
    },
    {
      "cell_type": "code",
      "execution_count": null,
      "metadata": {
        "id": "qb8W9AiXlOT5",
        "outputId": "a8725226-f255-41f3-8f26-d41da9bc40fd"
      },
      "outputs": [
        {
          "name": "stdout",
          "output_type": "stream",
          "text": [
            "['IndiGo' 'Air India' 'Jet Airways' 'SpiceJet' 'Multiple carriers' 'GoAir'\n",
            " 'Vistara' 'Air Asia' 'Vistara Premium economy' 'Jet Airways Business'\n",
            " 'Multiple carriers Premium economy' 'Trujet']\n"
          ]
        },
        {
          "data": {
            "text/plain": [
              "0             Indigo\n",
              "1          Air India\n",
              "2        Jet Airways\n",
              "3             Indigo\n",
              "4             Indigo\n",
              "            ...     \n",
              "10678       Air Asia\n",
              "10679      Air India\n",
              "10680    Jet Airways\n",
              "10681        Vistara\n",
              "10682      Air India\n",
              "Name: Airline, Length: 10683, dtype: object"
            ]
          },
          "execution_count": 11,
          "metadata": {},
          "output_type": "execute_result"
        }
      ],
      "source": [
        "print(df.Airline.unique())\n",
        "(df.Airline.str.replace(\"Premium economy\",\"\").str.replace(\"Business\",\"\").str.title())"
      ]
    },
    {
      "cell_type": "code",
      "execution_count": null,
      "metadata": {
        "id": "4B4UG-8KlOT6",
        "outputId": "3bec2b67-1741-43c7-b520-ae1c0582e75d"
      },
      "outputs": [
        {
          "name": "stdout",
          "output_type": "stream",
          "text": [
            "0       2019-03-24\n",
            "1       2019-05-01\n",
            "2       2019-06-09\n",
            "3       2019-05-12\n",
            "4       2019-03-01\n",
            "           ...    \n",
            "10678   2019-04-09\n",
            "10679   2019-04-27\n",
            "10680   2019-04-27\n",
            "10681   2019-03-01\n",
            "10682   2019-05-09\n",
            "Name: Date_of_Journey, Length: 10683, dtype: datetime64[ns]\n",
            "['Banglore' 'Kolkata' 'Delhi' 'Chennai' 'Mumbai']\n"
          ]
        },
        {
          "data": {
            "text/plain": [
              "array(['New Delhi', 'Banglore', 'Cochin', 'Kolkata', 'Delhi', 'Hyderabad'],\n",
              "      dtype=object)"
            ]
          },
          "execution_count": 12,
          "metadata": {},
          "output_type": "execute_result"
        }
      ],
      "source": [
        "print(pd.to_datetime(df.Date_of_Journey,dayfirst=True))\n",
        "print(df.Source.unique())\n",
        "df.Destination.unique()\n",
        "\n"
      ]
    },
    {
      "cell_type": "code",
      "execution_count": null,
      "metadata": {
        "id": "2KU2pUPQlOT7",
        "outputId": "89cc4132-45b0-4f25-c204-b474f3fc0fcb"
      },
      "outputs": [
        {
          "name": "stderr",
          "output_type": "stream",
          "text": [
            "C:\\Users\\singh\\AppData\\Local\\Temp\\ipykernel_61364\\3625467833.py:6: UserWarning: Could not infer format, so each element will be parsed individually, falling back to `dateutil`. To ensure parsing is consistent and as-expected, please specify a format.\n",
            "  pd.to_datetime(df.Dep_Time).dt.time\n"
          ]
        },
        {
          "data": {
            "text/plain": [
              "0        22:20:00\n",
              "1        05:50:00\n",
              "2        09:25:00\n",
              "3        18:05:00\n",
              "4        16:50:00\n",
              "           ...   \n",
              "10678    19:55:00\n",
              "10679    20:45:00\n",
              "10680    08:20:00\n",
              "10681    11:30:00\n",
              "10682    10:55:00\n",
              "Name: Dep_Time, Length: 10683, dtype: object"
            ]
          },
          "execution_count": 13,
          "metadata": {},
          "output_type": "execute_result"
        }
      ],
      "source": [
        "(\n",
        "\tdf\n",
        "\t.Dep_Time\n",
        "\t.loc[lambda ser: ser.str.contains(\"[^0-9:]\")]\n",
        ")\n",
        "pd.to_datetime(df.Dep_Time).dt.time\n"
      ]
    },
    {
      "cell_type": "code",
      "execution_count": null,
      "metadata": {
        "id": "fFbOpGkqlOT7",
        "outputId": "0a8cc800-60f4-4224-fc37-70be09d4b6d9"
      },
      "outputs": [
        {
          "data": {
            "text/plain": [
              "array(['22 Mar', '10 Jun', '13 Mar', '02 Mar', '10 May', '04 Mar',\n",
              "       '13 Jun', '28 May', '19 Mar', '07 May', '02 Jun', '16 Jun',\n",
              "       '19 May', '16 May', '28 Jun', '02 May', '28 Mar', '19 Jun',\n",
              "       '04 Apr', '25 Mar', '07 Mar', '25 Jun', '07 Jun', '25 May',\n",
              "       '13 May', '16 Mar', '22 May', '10 Apr', '04 Jun', '20 May',\n",
              "       '28 Apr', '25 Apr', '10 Mar', '19 Apr', '13 Apr', '02 Apr',\n",
              "       '23 Mar', '22 Apr', '11 May', '07 Apr', '03 May', '08 Mar',\n",
              "       '03 Mar', '05 Mar', '22 Jun', '04 May', '26 May', '16 Apr',\n",
              "       '26 Jun', '29 May', '29 Jun', '29 Mar', '23 May', '17 Jun'],\n",
              "      dtype=object)"
            ]
          },
          "execution_count": 14,
          "metadata": {},
          "output_type": "execute_result"
        }
      ],
      "source": [
        "(\n",
        "\tdf\n",
        "\t.Arrival_Time\n",
        "\t.loc[lambda ser: ser.str.contains(\"[^0-9:]\")]\n",
        "\t.str.split(\" \", n=1)\n",
        "\t.str.get(1)\n",
        "\t.unique()\n",
        ")"
      ]
    },
    {
      "cell_type": "code",
      "execution_count": null,
      "metadata": {
        "id": "GMisIH3mlOT8",
        "outputId": "8385f17f-6a96-41a7-e41b-f4a60ed049af"
      },
      "outputs": [
        {
          "data": {
            "text/plain": [
              "array(['19h', '23h', '22h', '12h', '3h', '5h', '10h', '18h', '24h', '15h',\n",
              "       '16h', '8h', '14h', '20h', '13h', '11h', '9h', '27h', '26h', '4h',\n",
              "       '7h', '30h', '21h', '28h', '47h', '6h', '25h', '38h', '34h'],\n",
              "      dtype=object)"
            ]
          },
          "execution_count": 15,
          "metadata": {},
          "output_type": "execute_result"
        }
      ],
      "source": [
        "(\n",
        "\tdf\n",
        "\t.Duration\n",
        "\t.loc[lambda ser: ~ser.str.contains(\"m\")]\n",
        "\t.unique()\n",
        ")"
      ]
    },
    {
      "cell_type": "code",
      "execution_count": null,
      "metadata": {
        "id": "LqXYmcpelOT8",
        "outputId": "d77f076d-1479-4344-ce2a-27ed602cdd3d"
      },
      "outputs": [
        {
          "data": {
            "text/html": [
              "<div>\n",
              "<style scoped>\n",
              "    .dataframe tbody tr th:only-of-type {\n",
              "        vertical-align: middle;\n",
              "    }\n",
              "\n",
              "    .dataframe tbody tr th {\n",
              "        vertical-align: top;\n",
              "    }\n",
              "\n",
              "    .dataframe thead th {\n",
              "        text-align: right;\n",
              "    }\n",
              "</style>\n",
              "<table border=\"1\" class=\"dataframe\">\n",
              "  <thead>\n",
              "    <tr style=\"text-align: right;\">\n",
              "      <th></th>\n",
              "      <th>Airline</th>\n",
              "      <th>Date_of_Journey</th>\n",
              "      <th>Source</th>\n",
              "      <th>Destination</th>\n",
              "      <th>Route</th>\n",
              "      <th>Dep_Time</th>\n",
              "      <th>Arrival_Time</th>\n",
              "      <th>Duration</th>\n",
              "      <th>Total_Stops</th>\n",
              "      <th>Additional_Info</th>\n",
              "      <th>Price</th>\n",
              "    </tr>\n",
              "  </thead>\n",
              "  <tbody>\n",
              "    <tr>\n",
              "      <th>6474</th>\n",
              "      <td>Air India</td>\n",
              "      <td>6/03/2019</td>\n",
              "      <td>Mumbai</td>\n",
              "      <td>Hyderabad</td>\n",
              "      <td>BOM → GOI → PNQ → HYD</td>\n",
              "      <td>16:50</td>\n",
              "      <td>16:55</td>\n",
              "      <td>5m</td>\n",
              "      <td>2 stops</td>\n",
              "      <td>No info</td>\n",
              "      <td>17327</td>\n",
              "    </tr>\n",
              "  </tbody>\n",
              "</table>\n",
              "</div>"
            ],
            "text/plain": [
              "        Airline Date_of_Journey  Source Destination                  Route  \\\n",
              "6474  Air India       6/03/2019  Mumbai   Hyderabad  BOM → GOI → PNQ → HYD   \n",
              "\n",
              "     Dep_Time Arrival_Time Duration Total_Stops Additional_Info  Price  \n",
              "6474    16:50        16:55       5m     2 stops         No info  17327  "
            ]
          },
          "execution_count": 16,
          "metadata": {},
          "output_type": "execute_result"
        }
      ],
      "source": [
        "(\n",
        "\tdf\n",
        "\t.Duration\n",
        "\t.loc[lambda ser: ~ser.str.contains(\"h\")]\n",
        "\t# .unique()\n",
        ")\n",
        "df.iloc[[6474]]\n"
      ]
    },
    {
      "cell_type": "code",
      "execution_count": null,
      "metadata": {
        "id": "HHx3VbU6lOT8",
        "outputId": "2b3d72ec-9154-42e5-fc12-af73c209ed2d"
      },
      "outputs": [
        {
          "data": {
            "text/plain": [
              "0         170\n",
              "1         445\n",
              "2        1140\n",
              "3         325\n",
              "4         285\n",
              "         ... \n",
              "10678     150\n",
              "10679     155\n",
              "10680     180\n",
              "10681     160\n",
              "10682     500\n",
              "Length: 10682, dtype: int64"
            ]
          },
          "execution_count": 17,
          "metadata": {},
          "output_type": "execute_result"
        }
      ],
      "source": [
        "(\n",
        "\tdf\n",
        "\t.Duration\n",
        "\t.drop(index=6474)\n",
        "\t.str.split(\" \", expand=True)\n",
        "\t.set_axis([\"hour\", \"minute\"], axis=1)\n",
        "\t.assign(\n",
        "\t\thour=lambda df_: (\n",
        "\t\t\tdf_\n",
        "\t\t\t.hour\n",
        "\t\t\t.str.replace(\"h\", \"\")\n",
        "\t\t\t.astype(int)\n",
        "\t\t\t.mul(60)\n",
        "\t\t),\n",
        "\t\tminute=lambda df_: (\n",
        "\t\t\tdf_\n",
        "\t\t\t.minute\n",
        "\t\t\t.str.replace(\"m\", \"\")\n",
        "\t\t\t.fillna(\"0\")\n",
        "\t\t\t.astype(int)\n",
        "\t\t)\n",
        "\t)\n",
        "\t.sum(axis=1)\n",
        ")"
      ]
    },
    {
      "cell_type": "code",
      "execution_count": null,
      "metadata": {
        "id": "r-RbWaxflOT9",
        "outputId": "8c0b7c66-2fe2-4ea4-b8b4-83689088812d"
      },
      "outputs": [
        {
          "data": {
            "text/plain": [
              "0         170\n",
              "1         445\n",
              "2        1140\n",
              "3         325\n",
              "4         285\n",
              "         ... \n",
              "10678     150\n",
              "10679     155\n",
              "10680     180\n",
              "10681     160\n",
              "10682     500\n",
              "Length: 10682, dtype: int64"
            ]
          },
          "execution_count": 18,
          "metadata": {},
          "output_type": "execute_result"
        }
      ],
      "source": [
        "(\n",
        "\tdf\n",
        "\t.Duration\n",
        "\t.drop(index=6474)\n",
        "\t.str.split(\" \", expand=True)\n",
        "\t.set_axis([\"hour\", \"minute\"], axis=1)\n",
        "\t.assign(\n",
        "\t\thour=lambda df_: (\n",
        "\t\t\tdf_\n",
        "\t\t\t.hour\n",
        "\t\t\t.str.replace(\"h\", \"\")\n",
        "\t\t\t.astype(int)\n",
        "\t\t\t.mul(60)\n",
        "\t\t),\n",
        "\t\tminute=lambda df_: (\n",
        "\t\t\tdf_\n",
        "\t\t\t.minute\n",
        "\t\t\t.str.replace(\"m\", \"\")\n",
        "\t\t\t.fillna(\"0\")\n",
        "\t\t\t.astype(int)\n",
        "\t\t)\n",
        "\t)\n",
        "\t.sum(axis=1)\n",
        ")"
      ]
    },
    {
      "cell_type": "code",
      "execution_count": null,
      "metadata": {
        "id": "jSCRYkvGlOT9",
        "outputId": "c67895d2-ec48-430f-8c17-7ef6a3097a78"
      },
      "outputs": [
        {
          "data": {
            "text/html": [
              "<div>\n",
              "<style scoped>\n",
              "    .dataframe tbody tr th:only-of-type {\n",
              "        vertical-align: middle;\n",
              "    }\n",
              "\n",
              "    .dataframe tbody tr th {\n",
              "        vertical-align: top;\n",
              "    }\n",
              "\n",
              "    .dataframe thead th {\n",
              "        text-align: right;\n",
              "    }\n",
              "</style>\n",
              "<table border=\"1\" class=\"dataframe\">\n",
              "  <thead>\n",
              "    <tr style=\"text-align: right;\">\n",
              "      <th></th>\n",
              "      <th>duration_minutes</th>\n",
              "      <th>Duration</th>\n",
              "    </tr>\n",
              "  </thead>\n",
              "  <tbody>\n",
              "    <tr>\n",
              "      <th>0</th>\n",
              "      <td>170</td>\n",
              "      <td>2h 50m</td>\n",
              "    </tr>\n",
              "    <tr>\n",
              "      <th>1</th>\n",
              "      <td>445</td>\n",
              "      <td>7h 25m</td>\n",
              "    </tr>\n",
              "    <tr>\n",
              "      <th>2</th>\n",
              "      <td>1140</td>\n",
              "      <td>19h</td>\n",
              "    </tr>\n",
              "    <tr>\n",
              "      <th>3</th>\n",
              "      <td>325</td>\n",
              "      <td>5h 25m</td>\n",
              "    </tr>\n",
              "    <tr>\n",
              "      <th>4</th>\n",
              "      <td>285</td>\n",
              "      <td>4h 45m</td>\n",
              "    </tr>\n",
              "    <tr>\n",
              "      <th>...</th>\n",
              "      <td>...</td>\n",
              "      <td>...</td>\n",
              "    </tr>\n",
              "    <tr>\n",
              "      <th>10678</th>\n",
              "      <td>150</td>\n",
              "      <td>2h 30m</td>\n",
              "    </tr>\n",
              "    <tr>\n",
              "      <th>10679</th>\n",
              "      <td>155</td>\n",
              "      <td>2h 35m</td>\n",
              "    </tr>\n",
              "    <tr>\n",
              "      <th>10680</th>\n",
              "      <td>180</td>\n",
              "      <td>3h</td>\n",
              "    </tr>\n",
              "    <tr>\n",
              "      <th>10681</th>\n",
              "      <td>160</td>\n",
              "      <td>2h 40m</td>\n",
              "    </tr>\n",
              "    <tr>\n",
              "      <th>10682</th>\n",
              "      <td>500</td>\n",
              "      <td>8h 20m</td>\n",
              "    </tr>\n",
              "  </tbody>\n",
              "</table>\n",
              "<p>10682 rows × 2 columns</p>\n",
              "</div>"
            ],
            "text/plain": [
              "       duration_minutes Duration\n",
              "0                   170   2h 50m\n",
              "1                   445   7h 25m\n",
              "2                  1140      19h\n",
              "3                   325   5h 25m\n",
              "4                   285   4h 45m\n",
              "...                 ...      ...\n",
              "10678               150   2h 30m\n",
              "10679               155   2h 35m\n",
              "10680               180       3h\n",
              "10681               160   2h 40m\n",
              "10682               500   8h 20m\n",
              "\n",
              "[10682 rows x 2 columns]"
            ]
          },
          "execution_count": 19,
          "metadata": {},
          "output_type": "execute_result"
        }
      ],
      "source": [
        "(\n",
        "\tdf\n",
        "\t.Duration\n",
        "\t.drop(index=6474)\n",
        "\t.str.split(\" \", expand=True)\n",
        "\t.set_axis([\"hour\", \"minute\"], axis=1)\n",
        "\t.assign(\n",
        "\t\thour=lambda df_: (\n",
        "\t\t\tdf_\n",
        "\t\t\t.hour\n",
        "\t\t\t.str.replace(\"h\", \"\")\n",
        "\t\t\t.astype(int)\n",
        "\t\t\t.mul(60)\n",
        "\t\t),\n",
        "\t\tminute=lambda df_: (\n",
        "\t\t\tdf_\n",
        "\t\t\t.minute\n",
        "\t\t\t.str.replace(\"m\", \"\")\n",
        "\t\t\t.fillna(\"0\")\n",
        "\t\t\t.astype(int)\n",
        "\t\t)\n",
        "\t)\n",
        "\t.sum(axis=1)\n",
        "\t.rename(\"duration_minutes\")\n",
        "\t.to_frame()\n",
        "\t.join(df.Duration.drop(index=6474))\n",
        ")"
      ]
    },
    {
      "cell_type": "code",
      "execution_count": null,
      "metadata": {
        "id": "VZqWe08hlOT-",
        "outputId": "82ec5960-f17a-4334-8b79-311c2f3acb0f"
      },
      "outputs": [
        {
          "name": "stdout",
          "output_type": "stream",
          "text": [
            "['non-stop' '2 stops' '1 stop' '3 stops' nan '4 stops']\n"
          ]
        },
        {
          "data": {
            "text/plain": [
              "0        0.0\n",
              "1        2.0\n",
              "2        2.0\n",
              "3        1.0\n",
              "4        1.0\n",
              "        ... \n",
              "10678    0.0\n",
              "10679    0.0\n",
              "10680    0.0\n",
              "10681    0.0\n",
              "10682    2.0\n",
              "Name: Total_Stops, Length: 10683, dtype: float64"
            ]
          },
          "execution_count": 20,
          "metadata": {},
          "output_type": "execute_result"
        }
      ],
      "source": [
        "print(df.Total_Stops.unique())\n",
        "\n",
        "(\n",
        "\tdf\n",
        "\t.Total_Stops\n",
        "\t.replace(\"non-stop\", \"0\")\n",
        "\t.str.replace(\" stops?\", \"\", regex=True) # \" stop\" \" stops\"\n",
        "\t.pipe(lambda ser: pd.to_numeric(ser))\n",
        ")\n"
      ]
    },
    {
      "cell_type": "code",
      "execution_count": null,
      "metadata": {
        "id": "nCi77hjzlOT-"
      },
      "outputs": [],
      "source": [
        "\n",
        "def convert_to_minutes(ser):\n",
        "\treturn (\n",
        "\t\tser\n",
        "\t\t.str.split(\" \", expand=True)\n",
        "\t\t.set_axis([\"hour\", \"minute\"], axis=1)\n",
        "\t\t.assign(\n",
        "\t\t\thour=lambda df_: (\n",
        "\t\t\t\tdf_\n",
        "\t\t\t\t.hour\n",
        "\t\t\t\t.str.replace(\"h\", \"\")\n",
        "\t\t\t\t.astype(int)\n",
        "\t\t\t\t.mul(60)\n",
        "\t\t\t),\n",
        "\t\t\tminute=lambda df_: (\n",
        "\t\t\t\tdf_\n",
        "\t\t\t\t.minute\n",
        "\t\t\t\t.str.replace(\"m\", \"\")\n",
        "\t\t\t\t.fillna(\"0\")\n",
        "\t\t\t\t.astype(int)\n",
        "\t\t\t)\n",
        "\t\t)\n",
        "\t\t.sum(axis=1)\n",
        "\t)"
      ]
    },
    {
      "cell_type": "code",
      "execution_count": null,
      "metadata": {
        "id": "4eSF2mNZlOT-"
      },
      "outputs": [],
      "source": [
        "def clean_data(df):\n",
        "\treturn (\n",
        "\t\tdf\n",
        "\t\t.drop(index=[6474])\n",
        "\t\t.drop_duplicates()\n",
        "\t\t.assign(**{\n",
        "\t\t\tcol: df[col].str.strip()\n",
        "\t\t\tfor col in df.select_dtypes(include=\"O\").columns\n",
        "\t\t})\n",
        "\t\t.rename(columns=str.lower)\n",
        "\t\t.assign(\n",
        "\t\t\tairline=lambda df_: (\n",
        "\t\t\t\tdf_\n",
        "\t\t\t\t.airline\n",
        "\t\t\t\t.str.replace(\" Premium economy\", \"\")\n",
        "\t\t\t\t.str.replace(\" Business\", \"\")\n",
        "\t\t\t\t.str.title()\n",
        "\t\t\t),\n",
        "\t\t\tdate_of_journey=lambda df_: pd.to_datetime(df_.date_of_journey, dayfirst=True),\n",
        "\t\t\tdep_time=lambda df_: pd.to_datetime(df_.dep_time).dt.time,\n",
        "\t\t\tarrival_time=lambda df_: pd.to_datetime(df_.arrival_time).dt.time,\n",
        "\t\t\tduration=lambda df_: df_.duration.pipe(convert_to_minutes),\n",
        "\t\t\ttotal_stops=lambda df_: (\n",
        "\t\t\t\tdf_\n",
        "\t\t\t\t.total_stops\n",
        "\t\t\t\t.replace(\"non-stop\", \"0\")\n",
        "\t\t\t\t.str.replace(\" stops?\", \"\", regex=True)\n",
        "\t\t\t\t.pipe(lambda ser: pd.to_numeric(ser))\n",
        "\t\t\t),\n",
        "\t\t\tadditional_info=lambda df_: df_.additional_info.replace(\"No info\", \"No Info\")\n",
        "\t\t)\n",
        "\t\t.drop(columns=\"route\")\n",
        "\t)\n",
        "\n"
      ]
    },
    {
      "cell_type": "code",
      "execution_count": null,
      "metadata": {
        "id": "E9TPcU8OlOT_",
        "outputId": "13af6ee1-39fa-427e-bebc-07a18e5bc6b0"
      },
      "outputs": [
        {
          "name": "stderr",
          "output_type": "stream",
          "text": [
            "C:\\Users\\singh\\AppData\\Local\\Temp\\ipykernel_61364\\937077564.py:20: UserWarning: Could not infer format, so each element will be parsed individually, falling back to `dateutil`. To ensure parsing is consistent and as-expected, please specify a format.\n",
            "  dep_time=lambda df_: pd.to_datetime(df_.dep_time).dt.time,\n",
            "C:\\Users\\singh\\AppData\\Local\\Temp\\ipykernel_61364\\937077564.py:21: UserWarning: Could not infer format, so each element will be parsed individually, falling back to `dateutil`. To ensure parsing is consistent and as-expected, please specify a format.\n",
            "  arrival_time=lambda df_: pd.to_datetime(df_.arrival_time).dt.time,\n"
          ]
        },
        {
          "data": {
            "text/html": [
              "<div>\n",
              "<style scoped>\n",
              "    .dataframe tbody tr th:only-of-type {\n",
              "        vertical-align: middle;\n",
              "    }\n",
              "\n",
              "    .dataframe tbody tr th {\n",
              "        vertical-align: top;\n",
              "    }\n",
              "\n",
              "    .dataframe thead th {\n",
              "        text-align: right;\n",
              "    }\n",
              "</style>\n",
              "<table border=\"1\" class=\"dataframe\">\n",
              "  <thead>\n",
              "    <tr style=\"text-align: right;\">\n",
              "      <th></th>\n",
              "      <th>airline</th>\n",
              "      <th>date_of_journey</th>\n",
              "      <th>source</th>\n",
              "      <th>destination</th>\n",
              "      <th>dep_time</th>\n",
              "      <th>arrival_time</th>\n",
              "      <th>duration</th>\n",
              "      <th>total_stops</th>\n",
              "      <th>additional_info</th>\n",
              "      <th>price</th>\n",
              "    </tr>\n",
              "  </thead>\n",
              "  <tbody>\n",
              "    <tr>\n",
              "      <th>0</th>\n",
              "      <td>Indigo</td>\n",
              "      <td>2019-03-24</td>\n",
              "      <td>Banglore</td>\n",
              "      <td>New Delhi</td>\n",
              "      <td>22:20:00</td>\n",
              "      <td>01:10:00</td>\n",
              "      <td>170</td>\n",
              "      <td>0.0</td>\n",
              "      <td>No Info</td>\n",
              "      <td>3897</td>\n",
              "    </tr>\n",
              "    <tr>\n",
              "      <th>1</th>\n",
              "      <td>Air India</td>\n",
              "      <td>2019-05-01</td>\n",
              "      <td>Kolkata</td>\n",
              "      <td>Banglore</td>\n",
              "      <td>05:50:00</td>\n",
              "      <td>13:15:00</td>\n",
              "      <td>445</td>\n",
              "      <td>2.0</td>\n",
              "      <td>No Info</td>\n",
              "      <td>7662</td>\n",
              "    </tr>\n",
              "    <tr>\n",
              "      <th>2</th>\n",
              "      <td>Jet Airways</td>\n",
              "      <td>2019-06-09</td>\n",
              "      <td>Delhi</td>\n",
              "      <td>Cochin</td>\n",
              "      <td>09:25:00</td>\n",
              "      <td>04:25:00</td>\n",
              "      <td>1140</td>\n",
              "      <td>2.0</td>\n",
              "      <td>No Info</td>\n",
              "      <td>13882</td>\n",
              "    </tr>\n",
              "    <tr>\n",
              "      <th>3</th>\n",
              "      <td>Indigo</td>\n",
              "      <td>2019-05-12</td>\n",
              "      <td>Kolkata</td>\n",
              "      <td>Banglore</td>\n",
              "      <td>18:05:00</td>\n",
              "      <td>23:30:00</td>\n",
              "      <td>325</td>\n",
              "      <td>1.0</td>\n",
              "      <td>No Info</td>\n",
              "      <td>6218</td>\n",
              "    </tr>\n",
              "    <tr>\n",
              "      <th>4</th>\n",
              "      <td>Indigo</td>\n",
              "      <td>2019-03-01</td>\n",
              "      <td>Banglore</td>\n",
              "      <td>New Delhi</td>\n",
              "      <td>16:50:00</td>\n",
              "      <td>21:35:00</td>\n",
              "      <td>285</td>\n",
              "      <td>1.0</td>\n",
              "      <td>No Info</td>\n",
              "      <td>13302</td>\n",
              "    </tr>\n",
              "    <tr>\n",
              "      <th>...</th>\n",
              "      <td>...</td>\n",
              "      <td>...</td>\n",
              "      <td>...</td>\n",
              "      <td>...</td>\n",
              "      <td>...</td>\n",
              "      <td>...</td>\n",
              "      <td>...</td>\n",
              "      <td>...</td>\n",
              "      <td>...</td>\n",
              "      <td>...</td>\n",
              "    </tr>\n",
              "    <tr>\n",
              "      <th>10678</th>\n",
              "      <td>Air Asia</td>\n",
              "      <td>2019-04-09</td>\n",
              "      <td>Kolkata</td>\n",
              "      <td>Banglore</td>\n",
              "      <td>19:55:00</td>\n",
              "      <td>22:25:00</td>\n",
              "      <td>150</td>\n",
              "      <td>0.0</td>\n",
              "      <td>No Info</td>\n",
              "      <td>4107</td>\n",
              "    </tr>\n",
              "    <tr>\n",
              "      <th>10679</th>\n",
              "      <td>Air India</td>\n",
              "      <td>2019-04-27</td>\n",
              "      <td>Kolkata</td>\n",
              "      <td>Banglore</td>\n",
              "      <td>20:45:00</td>\n",
              "      <td>23:20:00</td>\n",
              "      <td>155</td>\n",
              "      <td>0.0</td>\n",
              "      <td>No Info</td>\n",
              "      <td>4145</td>\n",
              "    </tr>\n",
              "    <tr>\n",
              "      <th>10680</th>\n",
              "      <td>Jet Airways</td>\n",
              "      <td>2019-04-27</td>\n",
              "      <td>Banglore</td>\n",
              "      <td>Delhi</td>\n",
              "      <td>08:20:00</td>\n",
              "      <td>11:20:00</td>\n",
              "      <td>180</td>\n",
              "      <td>0.0</td>\n",
              "      <td>No Info</td>\n",
              "      <td>7229</td>\n",
              "    </tr>\n",
              "    <tr>\n",
              "      <th>10681</th>\n",
              "      <td>Vistara</td>\n",
              "      <td>2019-03-01</td>\n",
              "      <td>Banglore</td>\n",
              "      <td>New Delhi</td>\n",
              "      <td>11:30:00</td>\n",
              "      <td>14:10:00</td>\n",
              "      <td>160</td>\n",
              "      <td>0.0</td>\n",
              "      <td>No Info</td>\n",
              "      <td>12648</td>\n",
              "    </tr>\n",
              "    <tr>\n",
              "      <th>10682</th>\n",
              "      <td>Air India</td>\n",
              "      <td>2019-05-09</td>\n",
              "      <td>Delhi</td>\n",
              "      <td>Cochin</td>\n",
              "      <td>10:55:00</td>\n",
              "      <td>19:15:00</td>\n",
              "      <td>500</td>\n",
              "      <td>2.0</td>\n",
              "      <td>No Info</td>\n",
              "      <td>11753</td>\n",
              "    </tr>\n",
              "  </tbody>\n",
              "</table>\n",
              "<p>10462 rows × 10 columns</p>\n",
              "</div>"
            ],
            "text/plain": [
              "           airline date_of_journey    source destination  dep_time  \\\n",
              "0           Indigo      2019-03-24  Banglore   New Delhi  22:20:00   \n",
              "1        Air India      2019-05-01   Kolkata    Banglore  05:50:00   \n",
              "2      Jet Airways      2019-06-09     Delhi      Cochin  09:25:00   \n",
              "3           Indigo      2019-05-12   Kolkata    Banglore  18:05:00   \n",
              "4           Indigo      2019-03-01  Banglore   New Delhi  16:50:00   \n",
              "...            ...             ...       ...         ...       ...   \n",
              "10678     Air Asia      2019-04-09   Kolkata    Banglore  19:55:00   \n",
              "10679    Air India      2019-04-27   Kolkata    Banglore  20:45:00   \n",
              "10680  Jet Airways      2019-04-27  Banglore       Delhi  08:20:00   \n",
              "10681      Vistara      2019-03-01  Banglore   New Delhi  11:30:00   \n",
              "10682    Air India      2019-05-09     Delhi      Cochin  10:55:00   \n",
              "\n",
              "      arrival_time  duration  total_stops additional_info  price  \n",
              "0         01:10:00       170          0.0         No Info   3897  \n",
              "1         13:15:00       445          2.0         No Info   7662  \n",
              "2         04:25:00      1140          2.0         No Info  13882  \n",
              "3         23:30:00       325          1.0         No Info   6218  \n",
              "4         21:35:00       285          1.0         No Info  13302  \n",
              "...            ...       ...          ...             ...    ...  \n",
              "10678     22:25:00       150          0.0         No Info   4107  \n",
              "10679     23:20:00       155          0.0         No Info   4145  \n",
              "10680     11:20:00       180          0.0         No Info   7229  \n",
              "10681     14:10:00       160          0.0         No Info  12648  \n",
              "10682     19:15:00       500          2.0         No Info  11753  \n",
              "\n",
              "[10462 rows x 10 columns]"
            ]
          },
          "execution_count": 23,
          "metadata": {},
          "output_type": "execute_result"
        }
      ],
      "source": [
        "flights_cleaned = clean_data(df)\n",
        "flights_cleaned\n"
      ]
    },
    {
      "cell_type": "code",
      "execution_count": null,
      "metadata": {
        "id": "X1rvkFXdlOT_"
      },
      "outputs": [],
      "source": [
        "#flights_finaldata=flights_cleaned.sample(1000)"
      ]
    },
    {
      "cell_type": "code",
      "execution_count": null,
      "metadata": {
        "id": "dZHj-w_ulOT_"
      },
      "outputs": [],
      "source": [
        "# Gettig the test data and he\n",
        "\n",
        "X=flights_cleaned.drop(columns=\"price\")\n",
        "Y=flights_cleaned.price.copy()\n"
      ]
    },
    {
      "cell_type": "code",
      "execution_count": null,
      "metadata": {
        "id": "WQ-k5VKklOUA",
        "outputId": "ec15514f-2655-4280-9fcb-7091c95de118"
      },
      "outputs": [
        {
          "name": "stdout",
          "output_type": "stream",
          "text": [
            "(8369, 9)\n",
            "(8369,)\n",
            "(2093, 9)\n",
            "(8369,)\n",
            "Train Data:\n",
            "          airline date_of_journey   source destination  dep_time arrival_time  \\\n",
            "6728       Indigo      2019-06-15    Delhi      Cochin  05:35:00     08:50:00   \n",
            "6322  Jet Airways      2019-05-09    Delhi      Cochin  10:00:00     19:00:00   \n",
            "6875     Spicejet      2019-05-18   Mumbai   Hyderabad  13:15:00     14:45:00   \n",
            "3493       Indigo      2019-05-06  Kolkata    Banglore  08:10:00     13:00:00   \n",
            "611     Air India      2019-03-21    Delhi      Cochin  23:00:00     19:15:00   \n",
            "\n",
            "      duration  total_stops additional_info  price  \n",
            "6728       195          0.0         No Info   5601  \n",
            "6322       540          1.0         No Info  15554  \n",
            "6875        90          0.0         No Info   2227  \n",
            "3493       290          1.0         No Info   5069  \n",
            "611       1215          1.0         No Info   6745  \n"
          ]
        }
      ],
      "source": [
        "X_train,X_test,Y_train,Y_test=train_test_split(X,Y,test_size=0.2,random_state=42)\n",
        "print(X_train.shape)\n",
        "print(Y_train.shape)\n",
        "print(X_test.shape)\n",
        "print(Y_train.shape)\n",
        "train_data = pd.concat([X_train, Y_train], axis=1)\n",
        "# Combine X_test and Y_test into a single DataFrame\n",
        "test_data = pd.concat([X_test, Y_test], axis=1)\n",
        "\n",
        "# Save the training data to a CSV file\n",
        "train_data.to_csv('train_data.csv', index=False)\n",
        "\n",
        "# Save the testing data to a CSV file\n",
        "test_data.to_csv('test_data.csv', index=False)\n",
        "\n",
        "# Optional: Display the first few rows of each DataFrame to confirm\n",
        "print(\"Train Data:\")\n",
        "print(train_data.head())\n",
        "\n"
      ]
    },
    {
      "cell_type": "code",
      "execution_count": null,
      "metadata": {
        "id": "Xswtiv_slOUA"
      },
      "outputs": [],
      "source": [
        "\n",
        "DATA_DIR=\"Dataset\"\n",
        "PROJECT_DIR=\"C:/Users/singh/OneDrive/Desktop/Machine Leanring/Project/Dataset\"\n",
        "\n",
        "def export_data(X,Y,name):\n",
        "    file_name=f\"{name}.csv\"\n",
        "    file_path=os.path.join(PROJECT_DIR, DATA_DIR, file_name)\n",
        "\n",
        "export_data(X_train, Y_train, \"train\")\n",
        "export_data(X_test, Y_test, \"test\")\n"
      ]
    }
  ],
  "metadata": {
    "kernelspec": {
      "display_name": "efficientPS_env",
      "language": "python",
      "name": "python3"
    },
    "language_info": {
      "codemirror_mode": {
        "name": "ipython",
        "version": 3
      },
      "file_extension": ".py",
      "mimetype": "text/x-python",
      "name": "python",
      "nbconvert_exporter": "python",
      "pygments_lexer": "ipython3",
      "version": "3.9.13"
    },
    "colab": {
      "provenance": []
    }
  },
  "nbformat": 4,
  "nbformat_minor": 0
}